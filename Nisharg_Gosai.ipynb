{
  "nbformat": 4,
  "nbformat_minor": 0,
  "metadata": {
    "colab": {
      "name": "Nisharg Gosai.ipynb",
      "provenance": [],
      "authorship_tag": "ABX9TyMdJhDE4hynJCAaOPK3amqp",
      "include_colab_link": true
    },
    "kernelspec": {
      "name": "python3",
      "display_name": "Python 3"
    }
  },
  "cells": [
    {
      "cell_type": "markdown",
      "metadata": {
        "id": "view-in-github",
        "colab_type": "text"
      },
      "source": [
        "<a href=\"https://colab.research.google.com/github/NishargG/PythonforDataScience/blob/master/Nisharg_Gosai.ipynb\" target=\"_parent\"><img src=\"https://colab.research.google.com/assets/colab-badge.svg\" alt=\"Open In Colab\"/></a>"
      ]
    },
    {
      "cell_type": "markdown",
      "metadata": {
        "id": "BY7VkvV9tF0c",
        "colab_type": "text"
      },
      "source": [
        "Write a program using Numpy to count number of “C” element wise in a given array"
      ]
    },
    {
      "cell_type": "code",
      "metadata": {
        "id": "xaSnLWNQtHCt",
        "colab_type": "code",
        "colab": {
          "base_uri": "https://localhost:8080/",
          "height": 50
        },
        "outputId": "154ffc04-7bcd-4ee2-8fd2-8732f08d37db"
      },
      "source": [
        "import numpy as np\n",
        "array1 = np.array(['vadodara', 'rajkot', 'charusat', 'calcutta', 'coding'], dtype=np.str)\n",
        "print(array1)\n",
        "x = np.char.count(array1, \"c\")\n",
        "print(x)"
      ],
      "execution_count": 1,
      "outputs": [
        {
          "output_type": "stream",
          "text": [
            "['vadodara' 'rajkot' 'charusat' 'calcutta' 'coding']\n",
            "[0 0 1 2 1]\n"
          ],
          "name": "stdout"
        }
      ]
    },
    {
      "cell_type": "markdown",
      "metadata": {
        "id": "qVuHXX91tsgk",
        "colab_type": "text"
      },
      "source": [
        "Write a program using Numpy to test equal, not equal, greater equal, greater and less for all the elements of two given arrays."
      ]
    },
    {
      "cell_type": "code",
      "metadata": {
        "id": "lOeVaGOpttad",
        "colab_type": "code",
        "colab": {}
      },
      "source": [
        "import numpy as np\n",
        "a = np.array([3, 5])\n",
        "b = np.array([2, 5])\n",
        "print(\"Original numbers:\")\n",
        "print(a)\n",
        "print(b)\n",
        "print(\"Comparison - greater\")\n",
        "print(np.greater(a, b))\n",
        "print(\"Comparison - greater_equal\")\n",
        "print(np.greater_equal(a, b))\n",
        "print(\"Comparison - less\")\n",
        "print(np.less(a, b))\n",
        "print(\"Comparison - less_equal\")\n",
        "print(np.less_equal(a, b))\n"
      ],
      "execution_count": null,
      "outputs": []
    },
    {
      "cell_type": "markdown",
      "metadata": {
        "id": "oT2V_8Pit3N1",
        "colab_type": "text"
      },
      "source": [
        "Write a program using Numpy to store a given array into a text file and load it."
      ]
    },
    {
      "cell_type": "code",
      "metadata": {
        "id": "6dUb7Bwpt59K",
        "colab_type": "code",
        "colab": {}
      },
      "source": [
        "import numpy as np\n",
        "import os\n",
        "x = np.arange(12).reshape(4, 3)\n",
        "print(\"Original array:\")\n",
        "print(x)\n",
        "header = 'col1 col2 col3'\n"
      ],
      "execution_count": null,
      "outputs": []
    }
  ]
}